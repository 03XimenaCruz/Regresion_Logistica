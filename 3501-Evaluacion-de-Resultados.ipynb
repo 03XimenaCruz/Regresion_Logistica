{
 "cells": [
  {
   "cell_type": "markdown",
   "id": "b9e15191",
   "metadata": {},
   "source": [
    "# Evaluación de Resultados.\n",
    "\n",
    "En este NoteBook se muestran tecnicas para la evaluación de los resultados de una prediccion con un algortimo de Marchine Learning."
   ]
  },
  {
   "cell_type": "markdown",
   "id": "39383146",
   "metadata": {},
   "source": [
    "### Descripción \n",
    "NSL-KDD is a data set suggested to solve some of the inherent problems of the KDD'99 data set which are mentioned in [1]. Although, this new version of the KDD data set still suffers from some of the problems discussed by McHugh and may not be a perfect representative of existing real networks, because of the lack of public data sets for network-based IDSs, we believe it still can be applied as an effective benchmark data set to help researchers compare different intrusion detection methods.\n",
    "\n",
    "Furthermore, the number of records in the NSL-KDD train and test sets are reasonable. This advantage makes it affordable to run the experiments on the complete set without the need to randomly select a small portion. Consequently, evaluation results of different research work will be consistent and comparable.\n",
    "\n",
    "\n",
    "### Ficheros de Datos\n",
    "\n",
    "* <span style=\"color:green\">*KDDTrain+.ARFF*: The full NSL-KDD train set with binary labels in ARFF format.</span>\n",
    "* <span style=\"color:green\">*KDDTrain+.TXT*: The full NSL-KDD train set including attack-type labels and difficulty level in CSV format.\n",
    "* KDDTrain+_20Percent.ARFF: A 20% subset of the KDDTrain+.arff file\n",
    "* KDDTrain+_20Percent.TXT: A 20% subset of the KDDTrain+.txt file.\n",
    "* KDDTest+.ARFF: The full NSL-KDD test set with binary labels in ARFF format.\n",
    "* KDDTest+.TXT: The full NSL-KDD test set including attack-type labels and difficulty level in CSV format\n",
    "* KDDTest-21.ARFF: A subset of the KDDTest+.arff file which does not include records with difficulty level of 21 out of 21.\n",
    "* KDDTest-21.TXT: A subset of the KDDTest+.txt file which does not include records with difficulty level of 21 out of 21.\n",
    "\n",
    "### Descarga de los ficheros:\n",
    "\n",
    "https://www.unb.ca/cic/datasets/index.html\n",
    "\n",
    "\n",
    "### Referencias adicionales sobre el DataSet\n",
    "\n",
    "M. Tavallaee, E. Bagheri, W. Lu, and A. Ghorbani, “A Detailed Analysis of the KDD CUP 99 Data Set,” Submitted to Second IEEE Symposium on Computational Intelligence for Security and Defense Applications (CISDA), 2009"
   ]
  },
  {
   "cell_type": "markdown",
   "id": "6ceb858f",
   "metadata": {},
   "source": [
    "# Import"
   ]
  },
  {
   "cell_type": "code",
   "execution_count": 1,
   "id": "4607b1fd",
   "metadata": {},
   "outputs": [],
   "source": [
    "import arff\n",
    "import pandas as pd\n",
    "import numpy as np\n",
    "from sklearn.model_selection import train_test_split\n",
    "from sklearn.preprocessing import RobustScaler\n",
    "from sklearn.compose import ColumnTransformer\n",
    "from sklearn.preprocessing import OneHotEncoder\n",
    "from sklearn.pipeline import Pipeline\n",
    "from sklearn.impute import SimpleImputer\n",
    "from sklearn.base import BaseEstimator, TransformerMixin"
   ]
  },
  {
   "cell_type": "markdown",
   "id": "940c775a",
   "metadata": {},
   "source": [
    "# Funciones Auxiliares."
   ]
  },
  {
   "cell_type": "code",
   "execution_count": 2,
   "id": "72c5c4e6",
   "metadata": {},
   "outputs": [],
   "source": [
    "def load_kdd_dataset(data_path):\n",
    "    \"\"\"Lectura del conjunto de datos NSL-KDD.\"\"\"\n",
    "    with open(data_path, 'r') as train_set:\n",
    "        dataset = arff.load(train_set)\n",
    "        \n",
    "    attributes = [attr[0] for attr in dataset[\"attributes\"]]\n",
    "    return pd.DataFrame(dataset[\"data\"], columns=attributes)"
   ]
  },
  {
   "cell_type": "code",
   "execution_count": 3,
   "id": "569b54d7",
   "metadata": {},
   "outputs": [],
   "source": [
    "def train_val_test_split(df, rstate=42, shuffle= True, stratify = None):\n",
    "    strat = df[stratify] if stratify else None\n",
    "    train_set, test_set = train_test_split(\n",
    "        df,test_size=0.4, random_state=rstate, shuffle=shuffle, stratify = strat)\n",
    "    strat = test_set[stratify] if stratify else None\n",
    "    val_set, test_set = train_test_split(\n",
    "    test_set, test_size=0.5, random_state= rstate, shuffle= shuffle, stratify = strat)\n",
    "    return(train_set, val_set, test_set)"
   ]
  },
  {
   "cell_type": "code",
   "execution_count": 4,
   "id": "0985ec4b",
   "metadata": {},
   "outputs": [],
   "source": [
    "# Construcion de un pipeline para los atributos numericos.\n",
    "num_pipeline = Pipeline([\n",
    "    ('imputer', SimpleImputer(strategy = \"median\")),\n",
    "    ('rbst_scaler', RobustScaler()),\n",
    "])"
   ]
  },
  {
   "cell_type": "code",
   "execution_count": 5,
   "id": "f8295dd3",
   "metadata": {},
   "outputs": [],
   "source": [
    "# Transormador para codificar únicamente las columnas categoricas y devolver un DataFrame\n",
    "class CustomOneHotEncoder(BaseEstimator, TransformerMixin):\n",
    "    def __init__(self):\n",
    "        self._oh = OneHotEncoder(sparse=False)\n",
    "        self._columns = None\n",
    "    def fit(self, X, y=None):\n",
    "        X_cat = X.select_dtypes(include=['object'])\n",
    "        self._columns = pd.get_dummies(X_cat).columns\n",
    "        self._oh.fit(X_cat)\n",
    "        return self\n",
    "    def transform(self, X, y=None):\n",
    "        X_copy = X.copy()\n",
    "        X_cat = X_copy.select_dtypes(include=['object'])\n",
    "        X_num = X_copy.select_dtypes(exclude=['object'])\n",
    "        X_cat_oh = self._oh.transform(X_cat)\n",
    "        X_cat_oh = pd.DataFrame(X_cat_oh, \n",
    "                                columns=self._columns, \n",
    "                                index=X_copy.index)\n",
    "        X_copy.drop(list(X_cat), axis=1, inplace=True)\n",
    "        return X_copy.join(X_cat_oh)"
   ]
  },
  {
   "cell_type": "code",
   "execution_count": 6,
   "id": "69da1270",
   "metadata": {},
   "outputs": [],
   "source": [
    "# transformador que prepara todo el DataSet llamado Pipeline y transformadores personalizados.\n",
    "class DataFramePreparer(BaseEstimator, TransformerMixin):\n",
    "    def __init__(self):\n",
    "        self._full_pipeline = None\n",
    "        self._columns = None    \n",
    "    def  fit(self, X, y = None):\n",
    "        num_attribs = list(X.select_dtypes(exclude = ['object']))\n",
    "        cat_attribs = list(X.select_dtypes(include = ['object']))\n",
    "        self._full_pipeline = ColumnTransformer([\n",
    "            (\"num\", num_pipeline, num_attribs),\n",
    "            (\"cat\", CustomOneHotEncoder(), cat_attribs)\n",
    "        ])\n",
    "        self._full_pipeline.fit(X)\n",
    "        self._columns = pd.get_dummies(X).columns\n",
    "        return self\n",
    "    def transform(self, X, y = None):\n",
    "        X_copy = X.copy()\n",
    "        X_prep = self._full_pipeline.transform(X_copy)\n",
    "        return pd.DataFrame(X_prep,\n",
    "                          columns = self._columns,\n",
    "                          index = X_copy.index)"
   ]
  },
  {
   "cell_type": "markdown",
   "id": "2e11450f",
   "metadata": {},
   "source": [
    "# Lectura del DataSet"
   ]
  },
  {
   "cell_type": "code",
   "execution_count": 7,
   "id": "57713751",
   "metadata": {},
   "outputs": [],
   "source": [
    "df = load_kdd_dataset(\"datasets/NSL-KDD/KDDTrain+.arff\")"
   ]
  },
  {
   "cell_type": "code",
   "execution_count": 8,
   "id": "47b615e5",
   "metadata": {},
   "outputs": [
    {
     "data": {
      "text/html": [
       "<div>\n",
       "<style scoped>\n",
       "    .dataframe tbody tr th:only-of-type {\n",
       "        vertical-align: middle;\n",
       "    }\n",
       "\n",
       "    .dataframe tbody tr th {\n",
       "        vertical-align: top;\n",
       "    }\n",
       "\n",
       "    .dataframe thead th {\n",
       "        text-align: right;\n",
       "    }\n",
       "</style>\n",
       "<table border=\"1\" class=\"dataframe\">\n",
       "  <thead>\n",
       "    <tr style=\"text-align: right;\">\n",
       "      <th></th>\n",
       "      <th>duration</th>\n",
       "      <th>protocol_type</th>\n",
       "      <th>service</th>\n",
       "      <th>flag</th>\n",
       "      <th>src_bytes</th>\n",
       "      <th>dst_bytes</th>\n",
       "      <th>land</th>\n",
       "      <th>wrong_fragment</th>\n",
       "      <th>urgent</th>\n",
       "      <th>hot</th>\n",
       "      <th>...</th>\n",
       "      <th>dst_host_srv_count</th>\n",
       "      <th>dst_host_same_srv_rate</th>\n",
       "      <th>dst_host_diff_srv_rate</th>\n",
       "      <th>dst_host_same_src_port_rate</th>\n",
       "      <th>dst_host_srv_diff_host_rate</th>\n",
       "      <th>dst_host_serror_rate</th>\n",
       "      <th>dst_host_srv_serror_rate</th>\n",
       "      <th>dst_host_rerror_rate</th>\n",
       "      <th>dst_host_srv_rerror_rate</th>\n",
       "      <th>class</th>\n",
       "    </tr>\n",
       "  </thead>\n",
       "  <tbody>\n",
       "    <tr>\n",
       "      <th>0</th>\n",
       "      <td>0.0</td>\n",
       "      <td>tcp</td>\n",
       "      <td>ftp_data</td>\n",
       "      <td>SF</td>\n",
       "      <td>491.0</td>\n",
       "      <td>0.0</td>\n",
       "      <td>0</td>\n",
       "      <td>0.0</td>\n",
       "      <td>0.0</td>\n",
       "      <td>0.0</td>\n",
       "      <td>...</td>\n",
       "      <td>25.0</td>\n",
       "      <td>0.17</td>\n",
       "      <td>0.03</td>\n",
       "      <td>0.17</td>\n",
       "      <td>0.00</td>\n",
       "      <td>0.00</td>\n",
       "      <td>0.00</td>\n",
       "      <td>0.05</td>\n",
       "      <td>0.00</td>\n",
       "      <td>normal</td>\n",
       "    </tr>\n",
       "    <tr>\n",
       "      <th>1</th>\n",
       "      <td>0.0</td>\n",
       "      <td>udp</td>\n",
       "      <td>other</td>\n",
       "      <td>SF</td>\n",
       "      <td>146.0</td>\n",
       "      <td>0.0</td>\n",
       "      <td>0</td>\n",
       "      <td>0.0</td>\n",
       "      <td>0.0</td>\n",
       "      <td>0.0</td>\n",
       "      <td>...</td>\n",
       "      <td>1.0</td>\n",
       "      <td>0.00</td>\n",
       "      <td>0.60</td>\n",
       "      <td>0.88</td>\n",
       "      <td>0.00</td>\n",
       "      <td>0.00</td>\n",
       "      <td>0.00</td>\n",
       "      <td>0.00</td>\n",
       "      <td>0.00</td>\n",
       "      <td>normal</td>\n",
       "    </tr>\n",
       "    <tr>\n",
       "      <th>2</th>\n",
       "      <td>0.0</td>\n",
       "      <td>tcp</td>\n",
       "      <td>private</td>\n",
       "      <td>S0</td>\n",
       "      <td>0.0</td>\n",
       "      <td>0.0</td>\n",
       "      <td>0</td>\n",
       "      <td>0.0</td>\n",
       "      <td>0.0</td>\n",
       "      <td>0.0</td>\n",
       "      <td>...</td>\n",
       "      <td>26.0</td>\n",
       "      <td>0.10</td>\n",
       "      <td>0.05</td>\n",
       "      <td>0.00</td>\n",
       "      <td>0.00</td>\n",
       "      <td>1.00</td>\n",
       "      <td>1.00</td>\n",
       "      <td>0.00</td>\n",
       "      <td>0.00</td>\n",
       "      <td>anomaly</td>\n",
       "    </tr>\n",
       "    <tr>\n",
       "      <th>3</th>\n",
       "      <td>0.0</td>\n",
       "      <td>tcp</td>\n",
       "      <td>http</td>\n",
       "      <td>SF</td>\n",
       "      <td>232.0</td>\n",
       "      <td>8153.0</td>\n",
       "      <td>0</td>\n",
       "      <td>0.0</td>\n",
       "      <td>0.0</td>\n",
       "      <td>0.0</td>\n",
       "      <td>...</td>\n",
       "      <td>255.0</td>\n",
       "      <td>1.00</td>\n",
       "      <td>0.00</td>\n",
       "      <td>0.03</td>\n",
       "      <td>0.04</td>\n",
       "      <td>0.03</td>\n",
       "      <td>0.01</td>\n",
       "      <td>0.00</td>\n",
       "      <td>0.01</td>\n",
       "      <td>normal</td>\n",
       "    </tr>\n",
       "    <tr>\n",
       "      <th>4</th>\n",
       "      <td>0.0</td>\n",
       "      <td>tcp</td>\n",
       "      <td>http</td>\n",
       "      <td>SF</td>\n",
       "      <td>199.0</td>\n",
       "      <td>420.0</td>\n",
       "      <td>0</td>\n",
       "      <td>0.0</td>\n",
       "      <td>0.0</td>\n",
       "      <td>0.0</td>\n",
       "      <td>...</td>\n",
       "      <td>255.0</td>\n",
       "      <td>1.00</td>\n",
       "      <td>0.00</td>\n",
       "      <td>0.00</td>\n",
       "      <td>0.00</td>\n",
       "      <td>0.00</td>\n",
       "      <td>0.00</td>\n",
       "      <td>0.00</td>\n",
       "      <td>0.00</td>\n",
       "      <td>normal</td>\n",
       "    </tr>\n",
       "    <tr>\n",
       "      <th>5</th>\n",
       "      <td>0.0</td>\n",
       "      <td>tcp</td>\n",
       "      <td>private</td>\n",
       "      <td>REJ</td>\n",
       "      <td>0.0</td>\n",
       "      <td>0.0</td>\n",
       "      <td>0</td>\n",
       "      <td>0.0</td>\n",
       "      <td>0.0</td>\n",
       "      <td>0.0</td>\n",
       "      <td>...</td>\n",
       "      <td>19.0</td>\n",
       "      <td>0.07</td>\n",
       "      <td>0.07</td>\n",
       "      <td>0.00</td>\n",
       "      <td>0.00</td>\n",
       "      <td>0.00</td>\n",
       "      <td>0.00</td>\n",
       "      <td>1.00</td>\n",
       "      <td>1.00</td>\n",
       "      <td>anomaly</td>\n",
       "    </tr>\n",
       "    <tr>\n",
       "      <th>6</th>\n",
       "      <td>0.0</td>\n",
       "      <td>tcp</td>\n",
       "      <td>private</td>\n",
       "      <td>S0</td>\n",
       "      <td>0.0</td>\n",
       "      <td>0.0</td>\n",
       "      <td>0</td>\n",
       "      <td>0.0</td>\n",
       "      <td>0.0</td>\n",
       "      <td>0.0</td>\n",
       "      <td>...</td>\n",
       "      <td>9.0</td>\n",
       "      <td>0.04</td>\n",
       "      <td>0.05</td>\n",
       "      <td>0.00</td>\n",
       "      <td>0.00</td>\n",
       "      <td>1.00</td>\n",
       "      <td>1.00</td>\n",
       "      <td>0.00</td>\n",
       "      <td>0.00</td>\n",
       "      <td>anomaly</td>\n",
       "    </tr>\n",
       "    <tr>\n",
       "      <th>7</th>\n",
       "      <td>0.0</td>\n",
       "      <td>tcp</td>\n",
       "      <td>private</td>\n",
       "      <td>S0</td>\n",
       "      <td>0.0</td>\n",
       "      <td>0.0</td>\n",
       "      <td>0</td>\n",
       "      <td>0.0</td>\n",
       "      <td>0.0</td>\n",
       "      <td>0.0</td>\n",
       "      <td>...</td>\n",
       "      <td>15.0</td>\n",
       "      <td>0.06</td>\n",
       "      <td>0.07</td>\n",
       "      <td>0.00</td>\n",
       "      <td>0.00</td>\n",
       "      <td>1.00</td>\n",
       "      <td>1.00</td>\n",
       "      <td>0.00</td>\n",
       "      <td>0.00</td>\n",
       "      <td>anomaly</td>\n",
       "    </tr>\n",
       "    <tr>\n",
       "      <th>8</th>\n",
       "      <td>0.0</td>\n",
       "      <td>tcp</td>\n",
       "      <td>remote_job</td>\n",
       "      <td>S0</td>\n",
       "      <td>0.0</td>\n",
       "      <td>0.0</td>\n",
       "      <td>0</td>\n",
       "      <td>0.0</td>\n",
       "      <td>0.0</td>\n",
       "      <td>0.0</td>\n",
       "      <td>...</td>\n",
       "      <td>23.0</td>\n",
       "      <td>0.09</td>\n",
       "      <td>0.05</td>\n",
       "      <td>0.00</td>\n",
       "      <td>0.00</td>\n",
       "      <td>1.00</td>\n",
       "      <td>1.00</td>\n",
       "      <td>0.00</td>\n",
       "      <td>0.00</td>\n",
       "      <td>anomaly</td>\n",
       "    </tr>\n",
       "    <tr>\n",
       "      <th>9</th>\n",
       "      <td>0.0</td>\n",
       "      <td>tcp</td>\n",
       "      <td>private</td>\n",
       "      <td>S0</td>\n",
       "      <td>0.0</td>\n",
       "      <td>0.0</td>\n",
       "      <td>0</td>\n",
       "      <td>0.0</td>\n",
       "      <td>0.0</td>\n",
       "      <td>0.0</td>\n",
       "      <td>...</td>\n",
       "      <td>13.0</td>\n",
       "      <td>0.05</td>\n",
       "      <td>0.06</td>\n",
       "      <td>0.00</td>\n",
       "      <td>0.00</td>\n",
       "      <td>1.00</td>\n",
       "      <td>1.00</td>\n",
       "      <td>0.00</td>\n",
       "      <td>0.00</td>\n",
       "      <td>anomaly</td>\n",
       "    </tr>\n",
       "  </tbody>\n",
       "</table>\n",
       "<p>10 rows × 42 columns</p>\n",
       "</div>"
      ],
      "text/plain": [
       "   duration protocol_type     service flag  src_bytes  dst_bytes land  \\\n",
       "0       0.0           tcp    ftp_data   SF      491.0        0.0    0   \n",
       "1       0.0           udp       other   SF      146.0        0.0    0   \n",
       "2       0.0           tcp     private   S0        0.0        0.0    0   \n",
       "3       0.0           tcp        http   SF      232.0     8153.0    0   \n",
       "4       0.0           tcp        http   SF      199.0      420.0    0   \n",
       "5       0.0           tcp     private  REJ        0.0        0.0    0   \n",
       "6       0.0           tcp     private   S0        0.0        0.0    0   \n",
       "7       0.0           tcp     private   S0        0.0        0.0    0   \n",
       "8       0.0           tcp  remote_job   S0        0.0        0.0    0   \n",
       "9       0.0           tcp     private   S0        0.0        0.0    0   \n",
       "\n",
       "   wrong_fragment  urgent  hot  ...  dst_host_srv_count  \\\n",
       "0             0.0     0.0  0.0  ...                25.0   \n",
       "1             0.0     0.0  0.0  ...                 1.0   \n",
       "2             0.0     0.0  0.0  ...                26.0   \n",
       "3             0.0     0.0  0.0  ...               255.0   \n",
       "4             0.0     0.0  0.0  ...               255.0   \n",
       "5             0.0     0.0  0.0  ...                19.0   \n",
       "6             0.0     0.0  0.0  ...                 9.0   \n",
       "7             0.0     0.0  0.0  ...                15.0   \n",
       "8             0.0     0.0  0.0  ...                23.0   \n",
       "9             0.0     0.0  0.0  ...                13.0   \n",
       "\n",
       "  dst_host_same_srv_rate  dst_host_diff_srv_rate  dst_host_same_src_port_rate  \\\n",
       "0                   0.17                    0.03                         0.17   \n",
       "1                   0.00                    0.60                         0.88   \n",
       "2                   0.10                    0.05                         0.00   \n",
       "3                   1.00                    0.00                         0.03   \n",
       "4                   1.00                    0.00                         0.00   \n",
       "5                   0.07                    0.07                         0.00   \n",
       "6                   0.04                    0.05                         0.00   \n",
       "7                   0.06                    0.07                         0.00   \n",
       "8                   0.09                    0.05                         0.00   \n",
       "9                   0.05                    0.06                         0.00   \n",
       "\n",
       "   dst_host_srv_diff_host_rate  dst_host_serror_rate  \\\n",
       "0                         0.00                  0.00   \n",
       "1                         0.00                  0.00   \n",
       "2                         0.00                  1.00   \n",
       "3                         0.04                  0.03   \n",
       "4                         0.00                  0.00   \n",
       "5                         0.00                  0.00   \n",
       "6                         0.00                  1.00   \n",
       "7                         0.00                  1.00   \n",
       "8                         0.00                  1.00   \n",
       "9                         0.00                  1.00   \n",
       "\n",
       "   dst_host_srv_serror_rate  dst_host_rerror_rate  dst_host_srv_rerror_rate  \\\n",
       "0                      0.00                  0.05                      0.00   \n",
       "1                      0.00                  0.00                      0.00   \n",
       "2                      1.00                  0.00                      0.00   \n",
       "3                      0.01                  0.00                      0.01   \n",
       "4                      0.00                  0.00                      0.00   \n",
       "5                      0.00                  1.00                      1.00   \n",
       "6                      1.00                  0.00                      0.00   \n",
       "7                      1.00                  0.00                      0.00   \n",
       "8                      1.00                  0.00                      0.00   \n",
       "9                      1.00                  0.00                      0.00   \n",
       "\n",
       "     class  \n",
       "0   normal  \n",
       "1   normal  \n",
       "2  anomaly  \n",
       "3   normal  \n",
       "4   normal  \n",
       "5  anomaly  \n",
       "6  anomaly  \n",
       "7  anomaly  \n",
       "8  anomaly  \n",
       "9  anomaly  \n",
       "\n",
       "[10 rows x 42 columns]"
      ]
     },
     "execution_count": 8,
     "metadata": {},
     "output_type": "execute_result"
    }
   ],
   "source": [
    "df.head(10)"
   ]
  },
  {
   "cell_type": "markdown",
   "id": "9a04f0dd",
   "metadata": {},
   "source": [
    "## División del DataSet."
   ]
  },
  {
   "cell_type": "code",
   "execution_count": 9,
   "id": "0a12f2ef",
   "metadata": {},
   "outputs": [],
   "source": [
    "# División del DataSet en los diferentes subconjuntos.\n",
    "train_set, val_set, test_set = train_val_test_split(df)"
   ]
  },
  {
   "cell_type": "code",
   "execution_count": 10,
   "id": "c9a04595",
   "metadata": {},
   "outputs": [
    {
     "name": "stdout",
     "output_type": "stream",
     "text": [
      "Longitud dell Training Set:  75583\n",
      "Longitud de Validación de Set: 25195\n",
      "Longitud del Test Set: 25195\n"
     ]
    }
   ],
   "source": [
    "print(\"Longitud dell Training Set: \", len(train_set))\n",
    "print(\"Longitud de Validación de Set:\", len(val_set))\n",
    "print(\"Longitud del Test Set:\", len(test_set))"
   ]
  },
  {
   "cell_type": "markdown",
   "id": "1954f9f0",
   "metadata": {},
   "source": [
    "Para cada uno de los subconjuntos, se separa las etiquetas de las caracteristicas de entrada."
   ]
  },
  {
   "cell_type": "code",
   "execution_count": 11,
   "id": "1dd34fe2",
   "metadata": {},
   "outputs": [],
   "source": [
    "# Conjunto de Datos general\n",
    "X_df = df.drop(\"class\", axis = 1)\n",
    "Y_df = df[\"class\"].copy()"
   ]
  },
  {
   "cell_type": "code",
   "execution_count": 12,
   "id": "abc35737",
   "metadata": {},
   "outputs": [],
   "source": [
    "# Conjunto de Datos de entrenamiento\n",
    "X_train = train_set.drop(\"class\", axis = 1)\n",
    "Y_train = train_set[\"class\"].copy()"
   ]
  },
  {
   "cell_type": "code",
   "execution_count": 13,
   "id": "8d169466",
   "metadata": {},
   "outputs": [],
   "source": [
    "# Conjunto de validacion\n",
    "X_val = val_set.drop(\"class\", axis = 1)\n",
    "y_val = val_set[\"class\"].copy()"
   ]
  },
  {
   "cell_type": "code",
   "execution_count": 14,
   "id": "47ccf607",
   "metadata": {},
   "outputs": [],
   "source": [
    "#  Conjunto de datos de pruebas\n",
    "X_test = test_set.drop(\"class\", axis = 1)\n",
    "Y_test = test_set[\"class\"].copy()\n"
   ]
  },
  {
   "cell_type": "markdown",
   "id": "f2471d73",
   "metadata": {},
   "source": [
    "## Preparacion del DataSet"
   ]
  },
  {
   "cell_type": "code",
   "execution_count": 15,
   "id": "57ee74e0",
   "metadata": {},
   "outputs": [],
   "source": [
    "# instanciar el transformador personalizado\n",
    "data_preparer = DataFramePreparer()"
   ]
  },
  {
   "cell_type": "code",
   "execution_count": 16,
   "id": "051138f5",
   "metadata": {},
   "outputs": [
    {
     "name": "stderr",
     "output_type": "stream",
     "text": [
      "/home/ximena/anaconda3/lib/python3.11/site-packages/sklearn/preprocessing/_encoders.py:972: FutureWarning: `sparse` was renamed to `sparse_output` in version 1.2 and will be removed in 1.4. `sparse_output` is ignored unless you leave `sparse` to its default value.\n",
      "  warnings.warn(\n"
     ]
    },
    {
     "data": {
      "text/html": [
       "<style>#sk-container-id-1 {color: black;}#sk-container-id-1 pre{padding: 0;}#sk-container-id-1 div.sk-toggleable {background-color: white;}#sk-container-id-1 label.sk-toggleable__label {cursor: pointer;display: block;width: 100%;margin-bottom: 0;padding: 0.3em;box-sizing: border-box;text-align: center;}#sk-container-id-1 label.sk-toggleable__label-arrow:before {content: \"▸\";float: left;margin-right: 0.25em;color: #696969;}#sk-container-id-1 label.sk-toggleable__label-arrow:hover:before {color: black;}#sk-container-id-1 div.sk-estimator:hover label.sk-toggleable__label-arrow:before {color: black;}#sk-container-id-1 div.sk-toggleable__content {max-height: 0;max-width: 0;overflow: hidden;text-align: left;background-color: #f0f8ff;}#sk-container-id-1 div.sk-toggleable__content pre {margin: 0.2em;color: black;border-radius: 0.25em;background-color: #f0f8ff;}#sk-container-id-1 input.sk-toggleable__control:checked~div.sk-toggleable__content {max-height: 200px;max-width: 100%;overflow: auto;}#sk-container-id-1 input.sk-toggleable__control:checked~label.sk-toggleable__label-arrow:before {content: \"▾\";}#sk-container-id-1 div.sk-estimator input.sk-toggleable__control:checked~label.sk-toggleable__label {background-color: #d4ebff;}#sk-container-id-1 div.sk-label input.sk-toggleable__control:checked~label.sk-toggleable__label {background-color: #d4ebff;}#sk-container-id-1 input.sk-hidden--visually {border: 0;clip: rect(1px 1px 1px 1px);clip: rect(1px, 1px, 1px, 1px);height: 1px;margin: -1px;overflow: hidden;padding: 0;position: absolute;width: 1px;}#sk-container-id-1 div.sk-estimator {font-family: monospace;background-color: #f0f8ff;border: 1px dotted black;border-radius: 0.25em;box-sizing: border-box;margin-bottom: 0.5em;}#sk-container-id-1 div.sk-estimator:hover {background-color: #d4ebff;}#sk-container-id-1 div.sk-parallel-item::after {content: \"\";width: 100%;border-bottom: 1px solid gray;flex-grow: 1;}#sk-container-id-1 div.sk-label:hover label.sk-toggleable__label {background-color: #d4ebff;}#sk-container-id-1 div.sk-serial::before {content: \"\";position: absolute;border-left: 1px solid gray;box-sizing: border-box;top: 0;bottom: 0;left: 50%;z-index: 0;}#sk-container-id-1 div.sk-serial {display: flex;flex-direction: column;align-items: center;background-color: white;padding-right: 0.2em;padding-left: 0.2em;position: relative;}#sk-container-id-1 div.sk-item {position: relative;z-index: 1;}#sk-container-id-1 div.sk-parallel {display: flex;align-items: stretch;justify-content: center;background-color: white;position: relative;}#sk-container-id-1 div.sk-item::before, #sk-container-id-1 div.sk-parallel-item::before {content: \"\";position: absolute;border-left: 1px solid gray;box-sizing: border-box;top: 0;bottom: 0;left: 50%;z-index: -1;}#sk-container-id-1 div.sk-parallel-item {display: flex;flex-direction: column;z-index: 1;position: relative;background-color: white;}#sk-container-id-1 div.sk-parallel-item:first-child::after {align-self: flex-end;width: 50%;}#sk-container-id-1 div.sk-parallel-item:last-child::after {align-self: flex-start;width: 50%;}#sk-container-id-1 div.sk-parallel-item:only-child::after {width: 0;}#sk-container-id-1 div.sk-dashed-wrapped {border: 1px dashed gray;margin: 0 0.4em 0.5em 0.4em;box-sizing: border-box;padding-bottom: 0.4em;background-color: white;}#sk-container-id-1 div.sk-label label {font-family: monospace;font-weight: bold;display: inline-block;line-height: 1.2em;}#sk-container-id-1 div.sk-label-container {text-align: center;}#sk-container-id-1 div.sk-container {/* jupyter's `normalize.less` sets `[hidden] { display: none; }` but bootstrap.min.css set `[hidden] { display: none !important; }` so we also need the `!important` here to be able to override the default hidden behavior on the sphinx rendered scikit-learn.org. See: https://github.com/scikit-learn/scikit-learn/issues/21755 */display: inline-block !important;position: relative;}#sk-container-id-1 div.sk-text-repr-fallback {display: none;}</style><div id=\"sk-container-id-1\" class=\"sk-top-container\"><div class=\"sk-text-repr-fallback\"><pre>DataFramePreparer()</pre><b>In a Jupyter environment, please rerun this cell to show the HTML representation or trust the notebook. <br />On GitHub, the HTML representation is unable to render, please try loading this page with nbviewer.org.</b></div><div class=\"sk-container\" hidden><div class=\"sk-item\"><div class=\"sk-estimator sk-toggleable\"><input class=\"sk-toggleable__control sk-hidden--visually\" id=\"sk-estimator-id-1\" type=\"checkbox\" checked><label for=\"sk-estimator-id-1\" class=\"sk-toggleable__label sk-toggleable__label-arrow\">DataFramePreparer</label><div class=\"sk-toggleable__content\"><pre>DataFramePreparer()</pre></div></div></div></div></div>"
      ],
      "text/plain": [
       "DataFramePreparer()"
      ]
     },
     "execution_count": 16,
     "metadata": {},
     "output_type": "execute_result"
    }
   ],
   "source": [
    "# Ajustar con fit el DataSet general para que adquiera todos los valores posibles.\n",
    "data_preparer.fit(X_df)"
   ]
  },
  {
   "cell_type": "code",
   "execution_count": 17,
   "id": "0f1e1f8a",
   "metadata": {},
   "outputs": [],
   "source": [
    "X_train_prep = data_preparer.transform(X_train)"
   ]
  },
  {
   "cell_type": "code",
   "execution_count": 18,
   "id": "1bd5e42f",
   "metadata": {},
   "outputs": [
    {
     "data": {
      "text/html": [
       "<div>\n",
       "<style scoped>\n",
       "    .dataframe tbody tr th:only-of-type {\n",
       "        vertical-align: middle;\n",
       "    }\n",
       "\n",
       "    .dataframe tbody tr th {\n",
       "        vertical-align: top;\n",
       "    }\n",
       "\n",
       "    .dataframe thead th {\n",
       "        text-align: right;\n",
       "    }\n",
       "</style>\n",
       "<table border=\"1\" class=\"dataframe\">\n",
       "  <thead>\n",
       "    <tr style=\"text-align: right;\">\n",
       "      <th></th>\n",
       "      <th>duration</th>\n",
       "      <th>protocol_type</th>\n",
       "      <th>service</th>\n",
       "      <th>flag</th>\n",
       "      <th>src_bytes</th>\n",
       "      <th>dst_bytes</th>\n",
       "      <th>land</th>\n",
       "      <th>wrong_fragment</th>\n",
       "      <th>urgent</th>\n",
       "      <th>hot</th>\n",
       "      <th>...</th>\n",
       "      <th>dst_host_count</th>\n",
       "      <th>dst_host_srv_count</th>\n",
       "      <th>dst_host_same_srv_rate</th>\n",
       "      <th>dst_host_diff_srv_rate</th>\n",
       "      <th>dst_host_same_src_port_rate</th>\n",
       "      <th>dst_host_srv_diff_host_rate</th>\n",
       "      <th>dst_host_serror_rate</th>\n",
       "      <th>dst_host_srv_serror_rate</th>\n",
       "      <th>dst_host_rerror_rate</th>\n",
       "      <th>dst_host_srv_rerror_rate</th>\n",
       "    </tr>\n",
       "  </thead>\n",
       "  <tbody>\n",
       "    <tr>\n",
       "      <th>98320</th>\n",
       "      <td>0.0</td>\n",
       "      <td>icmp</td>\n",
       "      <td>ecr_i</td>\n",
       "      <td>SF</td>\n",
       "      <td>1032.0</td>\n",
       "      <td>0.0</td>\n",
       "      <td>0</td>\n",
       "      <td>0.0</td>\n",
       "      <td>0.0</td>\n",
       "      <td>0.0</td>\n",
       "      <td>...</td>\n",
       "      <td>210.0</td>\n",
       "      <td>65.0</td>\n",
       "      <td>0.31</td>\n",
       "      <td>0.01</td>\n",
       "      <td>0.31</td>\n",
       "      <td>0.00</td>\n",
       "      <td>0.0</td>\n",
       "      <td>0.0</td>\n",
       "      <td>0.0</td>\n",
       "      <td>0.0</td>\n",
       "    </tr>\n",
       "    <tr>\n",
       "      <th>8590</th>\n",
       "      <td>0.0</td>\n",
       "      <td>tcp</td>\n",
       "      <td>smtp</td>\n",
       "      <td>SF</td>\n",
       "      <td>1762.0</td>\n",
       "      <td>331.0</td>\n",
       "      <td>0</td>\n",
       "      <td>0.0</td>\n",
       "      <td>0.0</td>\n",
       "      <td>0.0</td>\n",
       "      <td>...</td>\n",
       "      <td>30.0</td>\n",
       "      <td>122.0</td>\n",
       "      <td>0.73</td>\n",
       "      <td>0.07</td>\n",
       "      <td>0.03</td>\n",
       "      <td>0.02</td>\n",
       "      <td>0.0</td>\n",
       "      <td>0.0</td>\n",
       "      <td>0.0</td>\n",
       "      <td>0.0</td>\n",
       "    </tr>\n",
       "    <tr>\n",
       "      <th>91385</th>\n",
       "      <td>0.0</td>\n",
       "      <td>icmp</td>\n",
       "      <td>eco_i</td>\n",
       "      <td>SF</td>\n",
       "      <td>8.0</td>\n",
       "      <td>0.0</td>\n",
       "      <td>0</td>\n",
       "      <td>0.0</td>\n",
       "      <td>0.0</td>\n",
       "      <td>0.0</td>\n",
       "      <td>...</td>\n",
       "      <td>2.0</td>\n",
       "      <td>126.0</td>\n",
       "      <td>1.00</td>\n",
       "      <td>0.00</td>\n",
       "      <td>1.00</td>\n",
       "      <td>0.25</td>\n",
       "      <td>0.0</td>\n",
       "      <td>0.0</td>\n",
       "      <td>0.0</td>\n",
       "      <td>0.0</td>\n",
       "    </tr>\n",
       "    <tr>\n",
       "      <th>54349</th>\n",
       "      <td>0.0</td>\n",
       "      <td>tcp</td>\n",
       "      <td>csnet_ns</td>\n",
       "      <td>S0</td>\n",
       "      <td>0.0</td>\n",
       "      <td>0.0</td>\n",
       "      <td>0</td>\n",
       "      <td>0.0</td>\n",
       "      <td>0.0</td>\n",
       "      <td>0.0</td>\n",
       "      <td>...</td>\n",
       "      <td>255.0</td>\n",
       "      <td>18.0</td>\n",
       "      <td>0.07</td>\n",
       "      <td>0.07</td>\n",
       "      <td>0.00</td>\n",
       "      <td>0.00</td>\n",
       "      <td>1.0</td>\n",
       "      <td>1.0</td>\n",
       "      <td>0.0</td>\n",
       "      <td>0.0</td>\n",
       "    </tr>\n",
       "    <tr>\n",
       "      <th>69568</th>\n",
       "      <td>0.0</td>\n",
       "      <td>tcp</td>\n",
       "      <td>smtp</td>\n",
       "      <td>SF</td>\n",
       "      <td>1518.0</td>\n",
       "      <td>342.0</td>\n",
       "      <td>0</td>\n",
       "      <td>0.0</td>\n",
       "      <td>0.0</td>\n",
       "      <td>0.0</td>\n",
       "      <td>...</td>\n",
       "      <td>83.0</td>\n",
       "      <td>125.0</td>\n",
       "      <td>0.66</td>\n",
       "      <td>0.05</td>\n",
       "      <td>0.01</td>\n",
       "      <td>0.02</td>\n",
       "      <td>0.0</td>\n",
       "      <td>0.0</td>\n",
       "      <td>0.0</td>\n",
       "      <td>0.0</td>\n",
       "    </tr>\n",
       "  </tbody>\n",
       "</table>\n",
       "<p>5 rows × 41 columns</p>\n",
       "</div>"
      ],
      "text/plain": [
       "       duration protocol_type   service flag  src_bytes  dst_bytes land  \\\n",
       "98320       0.0          icmp     ecr_i   SF     1032.0        0.0    0   \n",
       "8590        0.0           tcp      smtp   SF     1762.0      331.0    0   \n",
       "91385       0.0          icmp     eco_i   SF        8.0        0.0    0   \n",
       "54349       0.0           tcp  csnet_ns   S0        0.0        0.0    0   \n",
       "69568       0.0           tcp      smtp   SF     1518.0      342.0    0   \n",
       "\n",
       "       wrong_fragment  urgent  hot  ...  dst_host_count dst_host_srv_count  \\\n",
       "98320             0.0     0.0  0.0  ...           210.0               65.0   \n",
       "8590              0.0     0.0  0.0  ...            30.0              122.0   \n",
       "91385             0.0     0.0  0.0  ...             2.0              126.0   \n",
       "54349             0.0     0.0  0.0  ...           255.0               18.0   \n",
       "69568             0.0     0.0  0.0  ...            83.0              125.0   \n",
       "\n",
       "       dst_host_same_srv_rate  dst_host_diff_srv_rate  \\\n",
       "98320                    0.31                    0.01   \n",
       "8590                     0.73                    0.07   \n",
       "91385                    1.00                    0.00   \n",
       "54349                    0.07                    0.07   \n",
       "69568                    0.66                    0.05   \n",
       "\n",
       "       dst_host_same_src_port_rate  dst_host_srv_diff_host_rate  \\\n",
       "98320                         0.31                         0.00   \n",
       "8590                          0.03                         0.02   \n",
       "91385                         1.00                         0.25   \n",
       "54349                         0.00                         0.00   \n",
       "69568                         0.01                         0.02   \n",
       "\n",
       "       dst_host_serror_rate  dst_host_srv_serror_rate  dst_host_rerror_rate  \\\n",
       "98320                   0.0                       0.0                   0.0   \n",
       "8590                    0.0                       0.0                   0.0   \n",
       "91385                   0.0                       0.0                   0.0   \n",
       "54349                   1.0                       1.0                   0.0   \n",
       "69568                   0.0                       0.0                   0.0   \n",
       "\n",
       "       dst_host_srv_rerror_rate  \n",
       "98320                       0.0  \n",
       "8590                        0.0  \n",
       "91385                       0.0  \n",
       "54349                       0.0  \n",
       "69568                       0.0  \n",
       "\n",
       "[5 rows x 41 columns]"
      ]
     },
     "execution_count": 18,
     "metadata": {},
     "output_type": "execute_result"
    }
   ],
   "source": [
    "X_train.head(5)"
   ]
  },
  {
   "cell_type": "code",
   "execution_count": 19,
   "id": "e226cae3",
   "metadata": {},
   "outputs": [
    {
     "data": {
      "text/html": [
       "<div>\n",
       "<style scoped>\n",
       "    .dataframe tbody tr th:only-of-type {\n",
       "        vertical-align: middle;\n",
       "    }\n",
       "\n",
       "    .dataframe tbody tr th {\n",
       "        vertical-align: top;\n",
       "    }\n",
       "\n",
       "    .dataframe thead th {\n",
       "        text-align: right;\n",
       "    }\n",
       "</style>\n",
       "<table border=\"1\" class=\"dataframe\">\n",
       "  <thead>\n",
       "    <tr style=\"text-align: right;\">\n",
       "      <th></th>\n",
       "      <th>duration</th>\n",
       "      <th>src_bytes</th>\n",
       "      <th>dst_bytes</th>\n",
       "      <th>wrong_fragment</th>\n",
       "      <th>urgent</th>\n",
       "      <th>hot</th>\n",
       "      <th>num_failed_logins</th>\n",
       "      <th>num_compromised</th>\n",
       "      <th>root_shell</th>\n",
       "      <th>su_attempted</th>\n",
       "      <th>...</th>\n",
       "      <th>flag_SF</th>\n",
       "      <th>flag_SH</th>\n",
       "      <th>land_0</th>\n",
       "      <th>land_1</th>\n",
       "      <th>logged_in_0</th>\n",
       "      <th>logged_in_1</th>\n",
       "      <th>is_host_login_0</th>\n",
       "      <th>is_host_login_1</th>\n",
       "      <th>is_guest_login_0</th>\n",
       "      <th>is_guest_login_1</th>\n",
       "    </tr>\n",
       "  </thead>\n",
       "  <tbody>\n",
       "    <tr>\n",
       "      <th>98320</th>\n",
       "      <td>0.0</td>\n",
       "      <td>3.579710</td>\n",
       "      <td>0.000000</td>\n",
       "      <td>0.0</td>\n",
       "      <td>0.0</td>\n",
       "      <td>0.0</td>\n",
       "      <td>0.0</td>\n",
       "      <td>0.0</td>\n",
       "      <td>0.0</td>\n",
       "      <td>0.0</td>\n",
       "      <td>...</td>\n",
       "      <td>1.0</td>\n",
       "      <td>0.0</td>\n",
       "      <td>1.0</td>\n",
       "      <td>0.0</td>\n",
       "      <td>1.0</td>\n",
       "      <td>0.0</td>\n",
       "      <td>1.0</td>\n",
       "      <td>0.0</td>\n",
       "      <td>1.0</td>\n",
       "      <td>0.0</td>\n",
       "    </tr>\n",
       "    <tr>\n",
       "      <th>8590</th>\n",
       "      <td>0.0</td>\n",
       "      <td>6.224638</td>\n",
       "      <td>0.641473</td>\n",
       "      <td>0.0</td>\n",
       "      <td>0.0</td>\n",
       "      <td>0.0</td>\n",
       "      <td>0.0</td>\n",
       "      <td>0.0</td>\n",
       "      <td>0.0</td>\n",
       "      <td>0.0</td>\n",
       "      <td>...</td>\n",
       "      <td>1.0</td>\n",
       "      <td>0.0</td>\n",
       "      <td>1.0</td>\n",
       "      <td>0.0</td>\n",
       "      <td>0.0</td>\n",
       "      <td>1.0</td>\n",
       "      <td>1.0</td>\n",
       "      <td>0.0</td>\n",
       "      <td>1.0</td>\n",
       "      <td>0.0</td>\n",
       "    </tr>\n",
       "    <tr>\n",
       "      <th>91385</th>\n",
       "      <td>0.0</td>\n",
       "      <td>-0.130435</td>\n",
       "      <td>0.000000</td>\n",
       "      <td>0.0</td>\n",
       "      <td>0.0</td>\n",
       "      <td>0.0</td>\n",
       "      <td>0.0</td>\n",
       "      <td>0.0</td>\n",
       "      <td>0.0</td>\n",
       "      <td>0.0</td>\n",
       "      <td>...</td>\n",
       "      <td>1.0</td>\n",
       "      <td>0.0</td>\n",
       "      <td>1.0</td>\n",
       "      <td>0.0</td>\n",
       "      <td>1.0</td>\n",
       "      <td>0.0</td>\n",
       "      <td>1.0</td>\n",
       "      <td>0.0</td>\n",
       "      <td>1.0</td>\n",
       "      <td>0.0</td>\n",
       "    </tr>\n",
       "    <tr>\n",
       "      <th>54349</th>\n",
       "      <td>0.0</td>\n",
       "      <td>-0.159420</td>\n",
       "      <td>0.000000</td>\n",
       "      <td>0.0</td>\n",
       "      <td>0.0</td>\n",
       "      <td>0.0</td>\n",
       "      <td>0.0</td>\n",
       "      <td>0.0</td>\n",
       "      <td>0.0</td>\n",
       "      <td>0.0</td>\n",
       "      <td>...</td>\n",
       "      <td>0.0</td>\n",
       "      <td>0.0</td>\n",
       "      <td>1.0</td>\n",
       "      <td>0.0</td>\n",
       "      <td>1.0</td>\n",
       "      <td>0.0</td>\n",
       "      <td>1.0</td>\n",
       "      <td>0.0</td>\n",
       "      <td>1.0</td>\n",
       "      <td>0.0</td>\n",
       "    </tr>\n",
       "    <tr>\n",
       "      <th>69568</th>\n",
       "      <td>0.0</td>\n",
       "      <td>5.340580</td>\n",
       "      <td>0.662791</td>\n",
       "      <td>0.0</td>\n",
       "      <td>0.0</td>\n",
       "      <td>0.0</td>\n",
       "      <td>0.0</td>\n",
       "      <td>0.0</td>\n",
       "      <td>0.0</td>\n",
       "      <td>0.0</td>\n",
       "      <td>...</td>\n",
       "      <td>1.0</td>\n",
       "      <td>0.0</td>\n",
       "      <td>1.0</td>\n",
       "      <td>0.0</td>\n",
       "      <td>0.0</td>\n",
       "      <td>1.0</td>\n",
       "      <td>1.0</td>\n",
       "      <td>0.0</td>\n",
       "      <td>1.0</td>\n",
       "      <td>0.0</td>\n",
       "    </tr>\n",
       "  </tbody>\n",
       "</table>\n",
       "<p>5 rows × 126 columns</p>\n",
       "</div>"
      ],
      "text/plain": [
       "       duration  src_bytes  dst_bytes  wrong_fragment  urgent  hot  \\\n",
       "98320       0.0   3.579710   0.000000             0.0     0.0  0.0   \n",
       "8590        0.0   6.224638   0.641473             0.0     0.0  0.0   \n",
       "91385       0.0  -0.130435   0.000000             0.0     0.0  0.0   \n",
       "54349       0.0  -0.159420   0.000000             0.0     0.0  0.0   \n",
       "69568       0.0   5.340580   0.662791             0.0     0.0  0.0   \n",
       "\n",
       "       num_failed_logins  num_compromised  root_shell  su_attempted  ...  \\\n",
       "98320                0.0              0.0         0.0           0.0  ...   \n",
       "8590                 0.0              0.0         0.0           0.0  ...   \n",
       "91385                0.0              0.0         0.0           0.0  ...   \n",
       "54349                0.0              0.0         0.0           0.0  ...   \n",
       "69568                0.0              0.0         0.0           0.0  ...   \n",
       "\n",
       "       flag_SF  flag_SH  land_0  land_1  logged_in_0  logged_in_1  \\\n",
       "98320      1.0      0.0     1.0     0.0          1.0          0.0   \n",
       "8590       1.0      0.0     1.0     0.0          0.0          1.0   \n",
       "91385      1.0      0.0     1.0     0.0          1.0          0.0   \n",
       "54349      0.0      0.0     1.0     0.0          1.0          0.0   \n",
       "69568      1.0      0.0     1.0     0.0          0.0          1.0   \n",
       "\n",
       "       is_host_login_0  is_host_login_1  is_guest_login_0  is_guest_login_1  \n",
       "98320              1.0              0.0               1.0               0.0  \n",
       "8590               1.0              0.0               1.0               0.0  \n",
       "91385              1.0              0.0               1.0               0.0  \n",
       "54349              1.0              0.0               1.0               0.0  \n",
       "69568              1.0              0.0               1.0               0.0  \n",
       "\n",
       "[5 rows x 126 columns]"
      ]
     },
     "execution_count": 19,
     "metadata": {},
     "output_type": "execute_result"
    }
   ],
   "source": [
    "X_train_prep.head(5)"
   ]
  },
  {
   "cell_type": "code",
   "execution_count": 20,
   "id": "6e19b472",
   "metadata": {},
   "outputs": [],
   "source": [
    "X_val_prep = data_preparer.transform(X_val)"
   ]
  },
  {
   "cell_type": "markdown",
   "id": "e1a8d9b5",
   "metadata": {},
   "source": [
    "## Entrenamiento de un algoritmo de Regresion Logistica"
   ]
  },
  {
   "cell_type": "markdown",
   "id": "850a05f6",
   "metadata": {},
   "source": [
    "La instanciacion de un algoritmo de Machine Learning utilizando sklearn se realiza utilizando los metodos expuestos por la API de Sklearn tal como se ha representado en cuadernos anterirores"
   ]
  },
  {
   "cell_type": "code",
   "execution_count": 37,
   "id": "7bcd3048",
   "metadata": {},
   "outputs": [
    {
     "name": "stderr",
     "output_type": "stream",
     "text": [
      "/home/ximena/anaconda3/lib/python3.11/site-packages/sklearn/linear_model/_logistic.py:460: ConvergenceWarning: lbfgs failed to converge (status=1):\n",
      "STOP: TOTAL NO. of f AND g EVALUATIONS EXCEEDS LIMIT.\n",
      "\n",
      "Increase the number of iterations (max_iter) or scale the data as shown in:\n",
      "    https://scikit-learn.org/stable/modules/preprocessing.html\n",
      "Please also refer to the documentation for alternative solver options:\n",
      "    https://scikit-learn.org/stable/modules/linear_model.html#logistic-regression\n",
      "  n_iter_i = _check_optimize_result(\n"
     ]
    },
    {
     "data": {
      "text/html": [
       "<style>#sk-container-id-3 {color: black;}#sk-container-id-3 pre{padding: 0;}#sk-container-id-3 div.sk-toggleable {background-color: white;}#sk-container-id-3 label.sk-toggleable__label {cursor: pointer;display: block;width: 100%;margin-bottom: 0;padding: 0.3em;box-sizing: border-box;text-align: center;}#sk-container-id-3 label.sk-toggleable__label-arrow:before {content: \"▸\";float: left;margin-right: 0.25em;color: #696969;}#sk-container-id-3 label.sk-toggleable__label-arrow:hover:before {color: black;}#sk-container-id-3 div.sk-estimator:hover label.sk-toggleable__label-arrow:before {color: black;}#sk-container-id-3 div.sk-toggleable__content {max-height: 0;max-width: 0;overflow: hidden;text-align: left;background-color: #f0f8ff;}#sk-container-id-3 div.sk-toggleable__content pre {margin: 0.2em;color: black;border-radius: 0.25em;background-color: #f0f8ff;}#sk-container-id-3 input.sk-toggleable__control:checked~div.sk-toggleable__content {max-height: 200px;max-width: 100%;overflow: auto;}#sk-container-id-3 input.sk-toggleable__control:checked~label.sk-toggleable__label-arrow:before {content: \"▾\";}#sk-container-id-3 div.sk-estimator input.sk-toggleable__control:checked~label.sk-toggleable__label {background-color: #d4ebff;}#sk-container-id-3 div.sk-label input.sk-toggleable__control:checked~label.sk-toggleable__label {background-color: #d4ebff;}#sk-container-id-3 input.sk-hidden--visually {border: 0;clip: rect(1px 1px 1px 1px);clip: rect(1px, 1px, 1px, 1px);height: 1px;margin: -1px;overflow: hidden;padding: 0;position: absolute;width: 1px;}#sk-container-id-3 div.sk-estimator {font-family: monospace;background-color: #f0f8ff;border: 1px dotted black;border-radius: 0.25em;box-sizing: border-box;margin-bottom: 0.5em;}#sk-container-id-3 div.sk-estimator:hover {background-color: #d4ebff;}#sk-container-id-3 div.sk-parallel-item::after {content: \"\";width: 100%;border-bottom: 1px solid gray;flex-grow: 1;}#sk-container-id-3 div.sk-label:hover label.sk-toggleable__label {background-color: #d4ebff;}#sk-container-id-3 div.sk-serial::before {content: \"\";position: absolute;border-left: 1px solid gray;box-sizing: border-box;top: 0;bottom: 0;left: 50%;z-index: 0;}#sk-container-id-3 div.sk-serial {display: flex;flex-direction: column;align-items: center;background-color: white;padding-right: 0.2em;padding-left: 0.2em;position: relative;}#sk-container-id-3 div.sk-item {position: relative;z-index: 1;}#sk-container-id-3 div.sk-parallel {display: flex;align-items: stretch;justify-content: center;background-color: white;position: relative;}#sk-container-id-3 div.sk-item::before, #sk-container-id-3 div.sk-parallel-item::before {content: \"\";position: absolute;border-left: 1px solid gray;box-sizing: border-box;top: 0;bottom: 0;left: 50%;z-index: -1;}#sk-container-id-3 div.sk-parallel-item {display: flex;flex-direction: column;z-index: 1;position: relative;background-color: white;}#sk-container-id-3 div.sk-parallel-item:first-child::after {align-self: flex-end;width: 50%;}#sk-container-id-3 div.sk-parallel-item:last-child::after {align-self: flex-start;width: 50%;}#sk-container-id-3 div.sk-parallel-item:only-child::after {width: 0;}#sk-container-id-3 div.sk-dashed-wrapped {border: 1px dashed gray;margin: 0 0.4em 0.5em 0.4em;box-sizing: border-box;padding-bottom: 0.4em;background-color: white;}#sk-container-id-3 div.sk-label label {font-family: monospace;font-weight: bold;display: inline-block;line-height: 1.2em;}#sk-container-id-3 div.sk-label-container {text-align: center;}#sk-container-id-3 div.sk-container {/* jupyter's `normalize.less` sets `[hidden] { display: none; }` but bootstrap.min.css set `[hidden] { display: none !important; }` so we also need the `!important` here to be able to override the default hidden behavior on the sphinx rendered scikit-learn.org. See: https://github.com/scikit-learn/scikit-learn/issues/21755 */display: inline-block !important;position: relative;}#sk-container-id-3 div.sk-text-repr-fallback {display: none;}</style><div id=\"sk-container-id-3\" class=\"sk-top-container\"><div class=\"sk-text-repr-fallback\"><pre>LogisticRegression(max_iter=75583)</pre><b>In a Jupyter environment, please rerun this cell to show the HTML representation or trust the notebook. <br />On GitHub, the HTML representation is unable to render, please try loading this page with nbviewer.org.</b></div><div class=\"sk-container\" hidden><div class=\"sk-item\"><div class=\"sk-estimator sk-toggleable\"><input class=\"sk-toggleable__control sk-hidden--visually\" id=\"sk-estimator-id-3\" type=\"checkbox\" checked><label for=\"sk-estimator-id-3\" class=\"sk-toggleable__label sk-toggleable__label-arrow\">LogisticRegression</label><div class=\"sk-toggleable__content\"><pre>LogisticRegression(max_iter=75583)</pre></div></div></div></div></div>"
      ],
      "text/plain": [
       "LogisticRegression(max_iter=75583)"
      ]
     },
     "execution_count": 37,
     "metadata": {},
     "output_type": "execute_result"
    }
   ],
   "source": [
    "# Entrenar un algritmo basado en Regresion Logisitica \n",
    "from sklearn.linear_model import LogisticRegression\n",
    "\n",
    "clf = LogisticRegression(max_iter = 75583)\n",
    "clf.fit(X_train_prep, Y_train)"
   ]
  },
  {
   "cell_type": "markdown",
   "id": "8588d606",
   "metadata": {},
   "source": [
    "## Prediccion de Nuevos Ejemplos.\n",
    "\n",
    "Realizar una prediccion con el modelo anteriromente tras el entrenamiento del algoritmo de Regresion Logistica. Se utilizara el subconjunto de validacion."
   ]
  },
  {
   "cell_type": "code",
   "execution_count": 38,
   "id": "2d3b6478",
   "metadata": {},
   "outputs": [],
   "source": [
    "y_pred = clf.predict(X_val_prep)"
   ]
  },
  {
   "cell_type": "markdown",
   "id": "08e1834b",
   "metadata": {},
   "source": [
    "## 1.-Matriz de Confusión."
   ]
  },
  {
   "cell_type": "code",
   "execution_count": 39,
   "id": "9e757aad",
   "metadata": {},
   "outputs": [
    {
     "data": {
      "image/png": "[encoded data removed]",
      "text/plain": [
       "<Figure size 640x480 with 2 Axes>"
      ]
     },
     "metadata": {},
     "output_type": "display_data"
    }
   ],
   "source": [
    "from sklearn.metrics import confusion_matrix\n",
    "from scikitplot.metrics import plot_confusion_matrix\n",
    "import matplotlib.pyplot as plt\n",
    "\n",
    "# Suponiendo que ya tienes tu modelo clf entrenado y los datos de validación X_val_prep, y_val\n",
    "# Realiza predicciones con el clasificador\n",
    "predicted_labels = clf.predict(X_val_prep)\n",
    "\n",
    "# Genera la matriz de confusión\n",
    "confusion_matrix_data = confusion_matrix(y_val, predicted_labels)\n",
    "\n",
    "# Plotea la matriz de confusión\n",
    "plot_confusion_matrix(y_val, predicted_labels)\n",
    "\n",
    "# Formatea y muestra los valores en la matriz de confusión\n",
    "for i in range(confusion_matrix_data.shape[0]):\n",
    "    for j in range(confusion_matrix_data.shape[1]):\n",
    "        plt.text(j, i, format(confusion_matrix_data[i, j], '3g'),\n",
    "                 ha=\"center\", va=\"center\", color=\"black\")\n",
    "\n",
    "plt.show()\n"
   ]
  },
  {
   "cell_type": "markdown",
   "id": "e892524e",
   "metadata": {},
   "source": [
    "## 2.- Metricas derivadas de la matriz de confusion.\n",
    "\n",
    "Precision."
   ]
  },
  {
   "cell_type": "code",
   "execution_count": 40,
   "id": "533d2ce1",
   "metadata": {},
   "outputs": [
    {
     "name": "stdout",
     "output_type": "stream",
     "text": [
      "Precision:  0.9786979211224228\n"
     ]
    }
   ],
   "source": [
    "from sklearn.metrics import precision_score\n",
    "\n",
    "print(\"Precision: \", precision_score(y_val, y_pred, pos_label= 'anomaly'))"
   ]
  },
  {
   "cell_type": "markdown",
   "id": "10e76a18",
   "metadata": {},
   "source": [
    "## Recall."
   ]
  },
  {
   "cell_type": "code",
   "execution_count": 41,
   "id": "18c8413e",
   "metadata": {},
   "outputs": [
    {
     "name": "stdout",
     "output_type": "stream",
     "text": [
      "Recall:  0.9634495536466229\n"
     ]
    }
   ],
   "source": [
    "from sklearn.metrics import recall_score\n",
    "\n",
    "print(\"Recall: \",recall_score(y_val, y_pred, pos_label= 'anomaly'))"
   ]
  },
  {
   "cell_type": "markdown",
   "id": "3ecd8d58",
   "metadata": {},
   "source": [
    "## F1 Score"
   ]
  },
  {
   "cell_type": "code",
   "execution_count": 42,
   "id": "2d4a0a68",
   "metadata": {},
   "outputs": [
    {
     "name": "stdout",
     "output_type": "stream",
     "text": [
      "F1 Score:  0.971013877689598\n"
     ]
    }
   ],
   "source": [
    "from sklearn.metrics import f1_score\n",
    "\n",
    "print (\"F1 Score: \", f1_score(y_val, y_pred, pos_label= 'anomaly'))"
   ]
  },
  {
   "cell_type": "markdown",
   "id": "a170653b",
   "metadata": {},
   "source": [
    "## 3.-Curvas ROC y PR"
   ]
  },
  {
   "cell_type": "markdown",
   "id": "625c75c8",
   "metadata": {},
   "source": [
    "## Curva ROC"
   ]
  },
  {
   "cell_type": "code",
   "execution_count": 34,
   "id": "5bd6c9a1",
   "metadata": {},
   "outputs": [
    {
     "data": {
      "image/png": "[encoded data removed]",
      "text/plain": [
       "<Figure size 800x600 with 1 Axes>"
      ]
     },
     "metadata": {},
     "output_type": "display_data"
    }
   ],
   "source": [
    "from sklearn.metrics import roc_curve, auc\n",
    "import matplotlib.pyplot as plt\n",
    "\n",
    "# Suponiendo que ya tienes tu modelo de regresión logística clf y los datos de validación X_val_prep, y_val\n",
    "# Realiza predicciones con el clasificador\n",
    "predicted_probs = clf.predict_proba(X_val_prep)[:, 1]\n",
    "\n",
    "# Mapea las etiquetas a valores binarios\n",
    "y_val_binary = (y_val == 'normal').astype(int)\n",
    "\n",
    "# Calcula la curva ROC\n",
    "fpr, tpr, thresholds = roc_curve(y_val_binary, predicted_probs)\n",
    "roc_auc = auc(fpr, tpr)\n",
    "\n",
    "# Plotea la curva ROC\n",
    "plt.figure(figsize=(8, 6))\n",
    "plt.plot(fpr, tpr, color='darkorange', lw=2, label='ROC curve (AUC = {:.2f})'.format(roc_auc))\n",
    "plt.plot([0, 1], [0, 1], color='navy', lw=2, linestyle='--')\n",
    "plt.xlim([0.0, 1.0])\n",
    "plt.ylim([0.0, 1.05])\n",
    "plt.xlabel('False Positive Rate')\n",
    "plt.ylabel('True Positive Rate')\n",
    "plt.title('Receiver Operating Characteristic (ROC) Curve')\n",
    "plt.legend(loc='lower right')\n",
    "plt.show()"
   ]
  },
  {
   "cell_type": "markdown",
   "id": "2188afe0",
   "metadata": {},
   "source": [
    "## Curva pr"
   ]
  },
  {
   "cell_type": "code",
   "execution_count": 35,
   "id": "f7191bac",
   "metadata": {},
   "outputs": [
    {
     "data": {
      "image/png": "[encoded data removed]",
      "text/plain": [
       "<Figure size 800x600 with 1 Axes>"
      ]
     },
     "metadata": {},
     "output_type": "display_data"
    }
   ],
   "source": [
    "from sklearn.metrics import precision_recall_fscore_support\n",
    "import pandas as pd\n",
    "\n",
    "# Suponiendo que ya tienes tu modelo clf entrenado y los datos de validación X_val_prep, y_val\n",
    "# Realiza predicciones con el clasificador\n",
    "predicted_labels = clf.predict(X_val_prep)\n",
    "\n",
    "# Mapea las etiquetas a valores binarios\n",
    "from sklearn.metrics import precision_recall_curve\n",
    "import matplotlib.pyplot as plt\n",
    "\n",
    "# Suponiendo que ya tienes tu modelo clf entrenado y los datos de validación X_val_prep, y_val\n",
    "# Realiza predicciones con el clasificador\n",
    "predicted_probs = clf.predict_proba(X_val_prep)[:, 1]\n",
    "\n",
    "# Mapea las etiquetas a valores binarios\n",
    "y_val_binary = (y_val == 'normal').astype(int)\n",
    "\n",
    "# Calcula la curva precision-recall\n",
    "precision, recall, thresholds = precision_recall_curve(y_val_binary, predicted_probs)\n",
    "\n",
    "# Plotea la curva precision-recall\n",
    "plt.figure(figsize=(8, 6))\n",
    "plt.plot(recall, precision, color='darkorange', lw=2, label='Precision-Recall curve')\n",
    "plt.xlabel('Recall')\n",
    "plt.ylabel('Precision')\n",
    "plt.title('Precision-Recall Curve')\n",
    "plt.legend(loc='best')\n",
    "plt.show()"
   ]
  },
  {
   "cell_type": "markdown",
   "id": "bf525e7d",
   "metadata": {},
   "source": [
    "## 4.- Evaluación del modelo con el DataSet de pruebas "
   ]
  },
  {
   "cell_type": "code",
   "execution_count": 31,
   "id": "ae25c2ee",
   "metadata": {},
   "outputs": [],
   "source": [
    "# transformamos el subconjutno de datos de validación\n",
    "X_test_prep= data_preparer.transform(X_test)"
   ]
  },
  {
   "cell_type": "code",
   "execution_count": 32,
   "id": "6be4e371",
   "metadata": {},
   "outputs": [],
   "source": [
    "y_pred = clf.predict(X_test_prep)"
   ]
  },
  {
   "cell_type": "code",
   "execution_count": 36,
   "id": "e14dd562",
   "metadata": {},
   "outputs": [
    {
     "data": {
      "image/png": "[encoded data removed]",
      "text/plain": [
       "<Figure size 640x480 with 2 Axes>"
      ]
     },
     "metadata": {},
     "output_type": "display_data"
    }
   ],
   "source": [
    "from sklearn.metrics import confusion_matrix\n",
    "from scikitplot.metrics import plot_confusion_matrix\n",
    "import matplotlib.pyplot as plt\n",
    "\n",
    "# Suponiendo que ya tienes tu modelo clf entrenado y los datos de prueba X_test_prep, Y_test\n",
    "# Realiza predicciones con el clasificador\n",
    "predicted_labels = clf.predict(X_test_prep)\n",
    "\n",
    "# Genera la matriz de confusión\n",
    "confusion_matrix_data = confusion_matrix(Y_test, predicted_labels)\n",
    "\n",
    "# Plotea la matriz de confusión y formatea los valores\n",
    "plot_confusion_matrix(Y_test, predicted_labels)\n",
    "plt.show()"
   ]
  },
  {
   "cell_type": "code",
   "execution_count": null,
   "id": "89582294",
   "metadata": {},
   "outputs": [],
   "source": []
  }
 ],
 "metadata": {
  "kernelspec": {
   "display_name": "Python 3 (ipykernel)",
   "language": "python",
   "name": "python3"
  },
  "language_info": {
   "codemirror_mode": {
    "name": "ipython",
    "version": 3
   },
   "file_extension": ".py",
   "mimetype": "text/x-python",
   "name": "python",
   "nbconvert_exporter": "python",
   "pygments_lexer": "ipython3",
   "version": "3.11.4"
  }
 },
 "nbformat": 4,
 "nbformat_minor": 5
}
